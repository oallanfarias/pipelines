{
  "nbformat": 4,
  "nbformat_minor": 0,
  "metadata": {
    "colab": {
      "name": "pipelines.ipynb",
      "provenance": [],
      "mount_file_id": "1-kGRqaDMuXY7494xV2gG4BfzkU3DXLKB",
      "authorship_tag": "ABX9TyN7Q6K0zM3zqO5lrrCQ2AYW",
      "include_colab_link": true
    },
    "kernelspec": {
      "name": "python3",
      "display_name": "Python 3"
    },
    "language_info": {
      "name": "python"
    }
  },
  "cells": [
    {
      "cell_type": "markdown",
      "metadata": {
        "id": "view-in-github",
        "colab_type": "text"
      },
      "source": [
        "<a href=\"https://colab.research.google.com/github/oallanfarias/pipelines/blob/main/pipelines.ipynb\" target=\"_parent\"><img src=\"https://colab.research.google.com/assets/colab-badge.svg\" alt=\"Open In Colab\"/></a>"
      ]
    },
    {
      "cell_type": "code",
      "execution_count": 1,
      "metadata": {
        "colab": {
          "base_uri": "https://localhost:8080/"
        },
        "id": "x7CXjdd4yFh_",
        "outputId": "17308b3f-fee5-406b-fe02-756fa69b4524"
      },
      "outputs": [
        {
          "output_type": "stream",
          "name": "stdout",
          "text": [
            "Looking in indexes: https://pypi.org/simple, https://us-python.pkg.dev/colab-wheels/public/simple/\n",
            "Requirement already satisfied: pip in /usr/local/lib/python3.7/dist-packages (21.1.3)\n",
            "Collecting pip\n",
            "  Downloading pip-22.2.2-py3-none-any.whl (2.0 MB)\n",
            "\u001b[K     |████████████████████████████████| 2.0 MB 9.7 MB/s \n",
            "\u001b[?25hInstalling collected packages: pip\n",
            "  Attempting uninstall: pip\n",
            "    Found existing installation: pip 21.1.3\n",
            "    Uninstalling pip-21.1.3:\n",
            "      Successfully uninstalled pip-21.1.3\n",
            "Successfully installed pip-22.2.2\n"
          ]
        }
      ],
      "source": [
        "#ATUALIZAR O PIP\n",
        "!pip install --upgrade pip"
      ]
    },
    {
      "cell_type": "code",
      "source": [
        "#INSTALAR O APACHE_BEAM[INTERACTIVE]\n",
        "!pip install apache_beam[interactive]"
      ],
      "metadata": {
        "id": "2g-uQc6Z052c"
      },
      "execution_count": null,
      "outputs": []
    },
    {
      "cell_type": "code",
      "source": [
        "#INSTALAR O APACHE_BEAM[GCP]\n",
        "!pip install apache_beam[gcp]"
      ],
      "metadata": {
        "id": "hLrs2Nsa1llu"
      },
      "execution_count": null,
      "outputs": []
    },
    {
      "cell_type": "code",
      "source": [
        "#IMPORTAR A BIBLIOTECA DO APACHE BEAM\n",
        "import apache_beam as beam"
      ],
      "metadata": {
        "id": "MLidOaRT2xwX"
      },
      "execution_count": 1,
      "outputs": []
    },
    {
      "cell_type": "markdown",
      "source": [
        "#Ler e exibir leitura"
      ],
      "metadata": {
        "id": "7BNVq_5m6If0"
      }
    },
    {
      "cell_type": "code",
      "source": [
        "#TODA | É UM PASSO DA PIPELINE\n",
        "#O APACHE BEAM NÃO FAZ DIFERENÇAS ENTRE OS FORMATOS DE ARQUIVOS. PARA ELE, TODOS SÃO ARQUIVOS DE TEXTO\n",
        "import apache_beam as beam\n",
        "\n",
        "p1 = beam.Pipeline()\n",
        "\n",
        "voos = (\n",
        "    p1\n",
        "    |'Extrair do CSV'>> beam.io.ReadFromText('/content/drive/MyDrive/Datasets/voos.csv', skip_header_lines = 0) #ABRIU O ARQUIVO PULA A PRIMEIRA (0) LINHA \n",
        "    |'Separador do csv'>> beam.Map(lambda record: record.split(',')) #TODA VEZ QUE VEM A VIRGULA ELA SEPARA A INFORMAÇÃO\n",
        "    |'Exibir o resultado'>> beam.Map(print) #PRINTOU O RESULTADO\n",
        ")\n",
        "\n",
        "p1.run()"
      ],
      "metadata": {
        "id": "cnFImWLh23gh"
      },
      "execution_count": null,
      "outputs": []
    },
    {
      "cell_type": "code",
      "source": [
        "import apache_beam as beam\n",
        "\n",
        "p1 = beam.Pipeline()\n",
        "\n",
        "voos = (\n",
        "    p1\n",
        "    |'Extrair do CSV'>> beam.io.ReadFromText('/content/drive/MyDrive/Datasets/voos.csv', skip_header_lines = 0) #ABRIU O ARQUIVO PULA A PRIMEIRA (0) LINHA \n",
        "    |'Separador do csv'>> beam.Map(lambda record: record.split(',')) #TODA VEZ QUE VEM A VIRGULA ELA SEPARA A INFORMAÇÃO\n",
        "    #|'Exibir o resultado'>> beam.Map(print) #PRINTOU A SAIDA\n",
        "    |'Gravar o resultado'>> beam.io.WriteToText('/content/drive/MyDrive/Datasets/saida.txt') #OU SALVA O ARQUIVO COM O COMANDO 'WriteToText' OU PRINTA COM O 'Map(print)'\n",
        ")\n",
        "\n",
        "p1.run()"
      ],
      "metadata": {
        "colab": {
          "base_uri": "https://localhost:8080/"
        },
        "id": "XnmTbBuN_4YT",
        "outputId": "73b7bc9e-319a-4ea7-8fd1-41136d957e4b"
      },
      "execution_count": 5,
      "outputs": [
        {
          "output_type": "execute_result",
          "data": {
            "text/plain": [
              "<apache_beam.runners.portability.fn_api_runner.fn_runner.RunnerResult at 0x7f1a0c66d050>"
            ]
          },
          "metadata": {},
          "execution_count": 5
        }
      ]
    },
    {
      "cell_type": "markdown",
      "source": [
        "#Filtros"
      ],
      "metadata": {
        "id": "CYsY0so4FwqY"
      }
    },
    {
      "cell_type": "markdown",
      "source": [
        "##Filtros sobre String"
      ],
      "metadata": {
        "id": "syBsPH5RrGHS"
      }
    },
    {
      "cell_type": "code",
      "source": [
        "#FILTRANDO POR AEROPORTO DE ORIGEM SFO\n",
        "import apache_beam as beam\n",
        "\n",
        "p1 = beam.Pipeline()\n",
        "\n",
        "voos = (\n",
        "    p1\n",
        "    |'Extrair do CSV'>> beam.io.ReadFromText('/content/drive/MyDrive/Datasets/voos.csv', skip_header_lines = 0) #abriu o arquivo, pula a primeira linha \n",
        "    |'Separador do csv'>> beam.Map(lambda record: record.split(',')) #toda vez que vem a virgula ele separou\n",
        "    |'Filtrar aero'>> beam.Filter(lambda record: record[4] == 'SFO') # O número em record[] define a coluna.\n",
        "    |'Exibir o resultado'>> beam.Map(print) #printou\n",
        "    #|'Gravar o resultado'>> beam.io.WriteToText('/content/drive/MyDrive/Datasets/saida.txt') #salvar no arquivo, ou printa ou guarda\n",
        ")\n",
        "\n",
        "p1.run()"
      ],
      "metadata": {
        "id": "i30hbiWKDLYA"
      },
      "execution_count": null,
      "outputs": []
    },
    {
      "cell_type": "code",
      "source": [
        "# Filtrando por saída atrasada\n",
        "import apache_beam as beam\n",
        "\n",
        "p1 = beam.Pipeline()\n",
        "\n",
        "voos = (\n",
        "    p1\n",
        "    |'Extrair do CSV'>> beam.io.ReadFromText('/content/drive/MyDrive/Datasets/voos.csv',skip_header_lines = 1 )\n",
        "    |'Separador do csv' >> beam.Map(lambda record: record.split(','))\n",
        "    |'Filtrar aero'>> beam.Filter(lambda record: float(record[8])>0)\n",
        "    |'Exibir o resultado'>> beam.Map(print)\n",
        "    #|'Gravar o resultado'>> beam.io.WriteToText('saida2.txt')\n",
        ")\n",
        "\n",
        "p1.run()"
      ],
      "metadata": {
        "id": "2hPM_CQzMlIK"
      },
      "execution_count": null,
      "outputs": []
    },
    {
      "cell_type": "markdown",
      "source": [
        "#Agrupamento"
      ],
      "metadata": {
        "id": "23TNSCFBQxQG"
      }
    },
    {
      "cell_type": "code",
      "source": [
        "# Filtrando por saída atrasada com total de minutos por aeroporto de origem\n",
        "import apache_beam as beam\n",
        "\n",
        "p1 = beam.Pipeline()\n",
        "\n",
        "qnt_tempo = (\n",
        "    p1\n",
        "    |'Extrair do CSV'>> beam.io.ReadFromText('/content/drive/MyDrive/Datasets/voos.csv',skip_header_lines = 1 )\n",
        "    |'Separador do csv' >> beam.Map(lambda record: record.split(','))\n",
        "    |'Filtrar aero'>> beam.Filter(lambda record: float(record[8])>0)\n",
        "    |'Agregar as colunas'>> beam.Map(lambda record: (record[4],float(record[8])))\n",
        "    |'Construir uma nova tabela' >> beam.CombinePerKey(sum)\n",
        "    |'Exibir o resultado'>> beam.Map(print)\n",
        "    #|'Gravar o resultado'>> beam.io.WriteToText('saida2.txt')\n",
        ")\n",
        "\n",
        "p1.run()"
      ],
      "metadata": {
        "id": "NO9fr-vBN-FH"
      },
      "execution_count": null,
      "outputs": []
    },
    {
      "cell_type": "code",
      "source": [
        "# Filtrando por saída atrasada com total de vezes por aeroporto de origem\n",
        "import apache_beam as beam\n",
        "\n",
        "p1 = beam.Pipeline()\n",
        "\n",
        "voos = (\n",
        "    p1\n",
        "    |'Extrair do CSV'>> beam.io.ReadFromText('/content/drive/MyDrive/Datasets/voos.csv',skip_header_lines = 1 )\n",
        "    |'Separador do csv' >> beam.Map(lambda record: record.split(','))\n",
        "    |'Filtrar aero'>> beam.Filter(lambda record: float(record[8])>0)\n",
        "    |'Agregar as colunas'>> beam.Map(lambda record: (record[4],float(record[8])))\n",
        "    |'Construir uma nova tabela por qtd' >> beam.combiners.Count.PerKey(sum)\n",
        "    |'Exibir o resultado'>> beam.Map(print)\n",
        "    #|'Gravar o resultado'>> beam.io.WriteToText('saida2.txt')\n",
        ")\n",
        "\n",
        "p1.run()"
      ],
      "metadata": {
        "id": "NWWP2E_bYeaY"
      },
      "execution_count": null,
      "outputs": []
    },
    {
      "cell_type": "markdown",
      "source": [
        "#Co Group By Key"
      ],
      "metadata": {
        "id": "EYUbjMflbF59"
      }
    },
    {
      "cell_type": "code",
      "source": [
        "'''\n",
        "Podemos utilizar diferentes pipelines para combinar e organizar informações.\n",
        "Importante: a definição de cada pipeline nunca pode ser igual. Por isso, neste exemplo, inserimos o número 1.\n",
        "A tabela reune as nformações separadas por chaves.\n",
        "'''\n",
        "#Criar nova tabela com dados agregados de duas pipes\n",
        "import apache_beam as beam\n",
        "\n",
        "p1 = beam.Pipeline()\n",
        "\n",
        "qte_tempo = (\n",
        "    p1\n",
        "    |'Extrair do CSV'>> beam.io.ReadFromText('/content/drive/MyDrive/Datasets/voos.csv',skip_header_lines = 1 )\n",
        "    |'Separador do csv' >> beam.Map(lambda record: record.split(','))\n",
        "    |'Filtrar aero'>> beam.Filter(lambda record: float(record[8])>0)\n",
        "    |'Agregar as colunas'>> beam.Map(lambda record: (record[4],float(record[8])))\n",
        "    |'Construir uma nova tabela por minuto' >> beam.CombinePerKey(sum)\n",
        "    #|'Exibir o resultado'>> beam.Map(print)\n",
        "    #|'Gravar o resultado'>> beam.io.WriteToText('voos_minutos.txt')\n",
        ")\n",
        "\n",
        "qte_vezes = (\n",
        "    p1\n",
        "    |'1Extrair do CSV'>> beam.io.ReadFromText('/content/drive/MyDrive/Datasets/voos.csv',skip_header_lines = 1 )\n",
        "    |'1Separador do csv' >> beam.Map(lambda record: record.split(','))\n",
        "    |'1Filtrar aero'>> beam.Filter(lambda record: float(record[8])>0)\n",
        "    |'1Agregar as colunas'>> beam.Map(lambda record: (record[4],float(record[8])))\n",
        "    |'1Construir uma nova tabela por qtd' >> beam.combiners.Count.PerKey()\n",
        "    #|'Exibir o resultado'>> beam.Map(print)\n",
        "    #|'Gravar o resultado'>> beam.io.WriteToText('voos_minutos.txt')\n",
        ")\n",
        "\n",
        "tabela = (\n",
        "    {'Quantidade_minutos':qte_tempo,'Numero_de_atrasos':qte_vezes}\n",
        "    |'Agrupar as pernas' >> beam.CoGroupByKey()\n",
        "    #|'Resultado' >>beam.Map(print)\n",
        "    |'Gravar o resultado'>> beam.io.WriteToText('/content/drive/MyDrive/Datasets/novatabela.txt')\n",
        ")\n",
        "p1.run()"
      ],
      "metadata": {
        "colab": {
          "base_uri": "https://localhost:8080/"
        },
        "id": "BJaeNopXbJu2",
        "outputId": "dceb4da8-49ee-4139-a32f-10c375a2665b"
      },
      "execution_count": 12,
      "outputs": [
        {
          "output_type": "execute_result",
          "data": {
            "text/plain": [
              "<apache_beam.runners.portability.fn_api_runner.fn_runner.RunnerResult at 0x7f1a0c586690>"
            ]
          },
          "metadata": {},
          "execution_count": 12
        }
      ]
    }
  ]
}